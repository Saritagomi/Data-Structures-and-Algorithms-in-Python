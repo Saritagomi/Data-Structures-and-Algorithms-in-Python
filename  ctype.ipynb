{
 "cells": [
  {
   "cell_type": "code",
   "execution_count": 5,
   "id": "fa76814d",
   "metadata": {
    "scrolled": true
   },
   "outputs": [],
   "source": [
    "import ctypes"
   ]
  },
  {
   "cell_type": "code",
   "execution_count": 25,
   "id": "fcca46a4",
   "metadata": {},
   "outputs": [],
   "source": [
    "class MeriList:\n",
    "    def __init__(self):\n",
    "        self.size = 1\n",
    "        self.n = 0\n",
    "        self.A = self.make__array(self.size)\n",
    "        \n",
    "    def __len__(self):\n",
    "        return self.n\n",
    "    \n",
    "    def __str__(self):\n",
    "        result =''\n",
    "        for i in range(self.n):\n",
    "            result = result + str(self.A[i]) + ','\n",
    "        return '[' + result[:-1] + ']'\n",
    "    \n",
    "    def append(self,item):\n",
    "        if self.n == self.size:\n",
    "            #resize\n",
    "            self.__resize(self.size*2)\n",
    "            \n",
    "        self.A[self.n] = item\n",
    "        self.n = self.n + 1\n",
    "        \n",
    "    def pop(self):\n",
    "        if self.n == 0:\n",
    "            return 'Empty list'\n",
    "        print(self.A[self.n-1])\n",
    "        self.n = self.n - 1\n",
    "    \n",
    "    def clear(self):\n",
    "        self.n = 0\n",
    "        self.size = 1\n",
    "        \n",
    "    def insert(self, pos,item):\n",
    "        if self.n == self.size:\n",
    "            self.__resize(self.size*2)\n",
    "        for i in range(self.n,pos, -1):\n",
    "            self.A[i] = self.A[i-1]\n",
    "        self.A[pos] = item\n",
    "        self.n = self.n +1\n",
    "        \n",
    "    def __delitem__(self,pos):\n",
    "        if 0<= pos <self.n:\n",
    "            for i in range(pos,self.n-1):\n",
    "                self.A[i] = self.A[i+1]\n",
    "        self.n = self.n -1\n",
    "        \n",
    "    def find(self,item):\n",
    "        for i in range(self.n):\n",
    "            if self.A[i] == item:\n",
    "                return i\n",
    "        return 'value error, not in list'\n",
    "    \n",
    "    def remove(self,item):\n",
    "        pos = self.find(item)\n",
    "        if type(pos) == int:\n",
    "            self.__delitem__ (pos)\n",
    "        else:\n",
    "            return pos\n",
    "        \n",
    "        \n",
    "    def __getitem__(self,index):\n",
    "        if(0<= index <self.n):\n",
    "            return self.A[index]\n",
    "        else:\n",
    "            return 'IndexError - Index out of range'\n",
    "    \n",
    "    \n",
    "    def __resize(self,new_capacity):\n",
    "    #creating a new capacity of array\n",
    "        B = self.make__array(new_capacity)\n",
    "        self.size = new_capacity\n",
    "        #copy the content of a to b\n",
    "        for i in range(self.n):\n",
    "            B[i] = self.A[i]\n",
    "         # reassign a\n",
    "        self.A = B\n",
    "        \n",
    "    def make__array(self,capacity):\n",
    "        return (capacity*ctypes.py_object)()"
   ]
  },
  {
   "cell_type": "code",
   "execution_count": 26,
   "id": "7bd57f43",
   "metadata": {},
   "outputs": [],
   "source": [
    "l = MeriList()"
   ]
  },
  {
   "cell_type": "code",
   "execution_count": 27,
   "id": "64260ec0",
   "metadata": {},
   "outputs": [],
   "source": [
    "l.append('hedfdsrr')\n",
    "l.append(45)\n",
    "l.append(54)"
   ]
  },
  {
   "cell_type": "code",
   "execution_count": 28,
   "id": "1cf3a1cc",
   "metadata": {},
   "outputs": [],
   "source": [
    "del l[0]"
   ]
  },
  {
   "cell_type": "code",
   "execution_count": 30,
   "id": "6d37e13c",
   "metadata": {},
   "outputs": [
    {
     "name": "stdout",
     "output_type": "stream",
     "text": [
      "[45]\n"
     ]
    }
   ],
   "source": [
    "print(l)"
   ]
  },
  {
   "cell_type": "code",
   "execution_count": 29,
   "id": "4f73e3c9",
   "metadata": {},
   "outputs": [],
   "source": [
    "l.remove(54)"
   ]
  },
  {
   "cell_type": "code",
   "execution_count": 10,
   "id": "5b76b49c",
   "metadata": {},
   "outputs": [
    {
     "data": {
      "text/plain": [
       "3"
      ]
     },
     "execution_count": 10,
     "metadata": {},
     "output_type": "execute_result"
    }
   ],
   "source": [
    "len(l)"
   ]
  },
  {
   "cell_type": "code",
   "execution_count": 11,
   "id": "4f693746",
   "metadata": {},
   "outputs": [],
   "source": [
    "l.insert(1,765)"
   ]
  },
  {
   "cell_type": "code",
   "execution_count": 12,
   "id": "efc7929b",
   "metadata": {},
   "outputs": [
    {
     "name": "stdout",
     "output_type": "stream",
     "text": [
      "[hedfdsrr,765,45,54]\n"
     ]
    }
   ],
   "source": [
    "print(l)"
   ]
  },
  {
   "cell_type": "code",
   "execution_count": 112,
   "id": "2fa876e4",
   "metadata": {},
   "outputs": [
    {
     "data": {
      "text/plain": [
       "2"
      ]
     },
     "execution_count": 112,
     "metadata": {},
     "output_type": "execute_result"
    }
   ],
   "source": [
    "l.find(54)"
   ]
  },
  {
   "cell_type": "code",
   "execution_count": 97,
   "id": "b846c05d",
   "metadata": {},
   "outputs": [],
   "source": [
    "l.clear()"
   ]
  },
  {
   "cell_type": "code",
   "execution_count": 90,
   "id": "27910e55",
   "metadata": {},
   "outputs": [
    {
     "name": "stdout",
     "output_type": "stream",
     "text": [
      "54\n"
     ]
    }
   ],
   "source": [
    "l.pop()"
   ]
  },
  {
   "cell_type": "code",
   "execution_count": 91,
   "id": "d6b653b7",
   "metadata": {},
   "outputs": [],
   "source": []
  },
  {
   "cell_type": "code",
   "execution_count": null,
   "id": "6180aff4",
   "metadata": {},
   "outputs": [],
   "source": []
  }
 ],
 "metadata": {
  "kernelspec": {
   "display_name": "Python 3 (ipykernel)",
   "language": "python",
   "name": "python3"
  },
  "language_info": {
   "codemirror_mode": {
    "name": "ipython",
    "version": 3
   },
   "file_extension": ".py",
   "mimetype": "text/x-python",
   "name": "python",
   "nbconvert_exporter": "python",
   "pygments_lexer": "ipython3",
   "version": "3.11.3"
  }
 },
 "nbformat": 4,
 "nbformat_minor": 5
}
