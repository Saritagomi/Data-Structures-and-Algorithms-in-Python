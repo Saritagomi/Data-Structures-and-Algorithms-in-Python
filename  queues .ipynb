{
 "cells": [
  {
   "cell_type": "code",
   "execution_count": 101,
   "id": "6aa8abbc",
   "metadata": {},
   "outputs": [],
   "source": [
    "class Node:\n",
    "    def __init__(self,value):\n",
    "        self.data = value\n",
    "        self.next = None\n",
    "        "
   ]
  },
  {
   "cell_type": "code",
   "execution_count": 102,
   "id": "a9fe18b5",
   "metadata": {},
   "outputs": [],
   "source": [
    "class Queue:\n",
    "    def __init__(self):\n",
    "        self.front = None\n",
    "        self.rare = None\n",
    "        \n",
    "    def isempty(self):\n",
    "        return self.front ==None\n",
    "        \n",
    "    def size(self):\n",
    "        curr= self.front\n",
    "        count =0\n",
    "        while curr!= None:\n",
    "            count = count+1\n",
    "            curr = curr.next\n",
    "        return count   \n",
    "    def front_item(self):\n",
    "        if self.front ==None:\n",
    "            return \"empty\"\n",
    "        else:\n",
    "            return self.front.data\n",
    "        \n",
    "    def rare_item(self):\n",
    "        if self.front == None:\n",
    "            return \"empty\"\n",
    "        else:\n",
    "            return self.rare.data\n",
    "    \n",
    "    def enqueue(self,value):\n",
    "        new_node = Node(value)\n",
    "        if self.rare ==None:\n",
    "            self.front = new_node\n",
    "            self.rare = self.front\n",
    "        else:\n",
    "            self.rare.next = new_node\n",
    "            self.rare = new_node\n",
    "            \n",
    "    def dequeue(self):\n",
    "        if self.front ==None:\n",
    "            return \"Empty\"\n",
    "        else:\n",
    "            self.front = self.front.next\n",
    "            \n",
    "    def traverse(self):\n",
    "        if (self.front ==None):\n",
    "            return \"Queue is empty\"\n",
    "        curr = self.front\n",
    "        while curr != None:\n",
    "            print(curr.data, end=\" \")\n",
    "            curr = curr.next"
   ]
  },
  {
   "cell_type": "code",
   "execution_count": 103,
   "id": "f97d43bd",
   "metadata": {},
   "outputs": [],
   "source": [
    "q =Queue()"
   ]
  },
  {
   "cell_type": "code",
   "execution_count": 104,
   "id": "3380c823",
   "metadata": {},
   "outputs": [],
   "source": [
    "q.enqueue(3)"
   ]
  },
  {
   "cell_type": "code",
   "execution_count": 105,
   "id": "45922ebc",
   "metadata": {},
   "outputs": [],
   "source": [
    "q.enqueue(6)"
   ]
  },
  {
   "cell_type": "code",
   "execution_count": 106,
   "id": "a142d3bf",
   "metadata": {},
   "outputs": [
    {
     "name": "stdout",
     "output_type": "stream",
     "text": [
      "3 6 "
     ]
    }
   ],
   "source": [
    "q.traverse()"
   ]
  },
  {
   "cell_type": "code",
   "execution_count": 107,
   "id": "52eeb35e",
   "metadata": {},
   "outputs": [],
   "source": [
    "q.dequeue()"
   ]
  },
  {
   "cell_type": "code",
   "execution_count": 108,
   "id": "8ba92933",
   "metadata": {},
   "outputs": [
    {
     "data": {
      "text/plain": [
       "6"
      ]
     },
     "execution_count": 108,
     "metadata": {},
     "output_type": "execute_result"
    }
   ],
   "source": [
    "q.front_item()"
   ]
  },
  {
   "cell_type": "code",
   "execution_count": 109,
   "id": "5c190154",
   "metadata": {},
   "outputs": [
    {
     "data": {
      "text/plain": [
       "6"
      ]
     },
     "execution_count": 109,
     "metadata": {},
     "output_type": "execute_result"
    }
   ],
   "source": [
    "q.rare_item()"
   ]
  },
  {
   "cell_type": "code",
   "execution_count": 112,
   "id": "672b17a5",
   "metadata": {},
   "outputs": [],
   "source": [
    "# revese the no using queue and recurion\n",
    "def fun(num):\n",
    "    if num == 0:\n",
    "        return 0\n",
    "    else:\n",
    "        queue.enqueue(num%10)\n",
    "        res = fun(num//10)\n",
    "        res= res*10 + queue.dequeue()\n",
    "        return res\n"
   ]
  },
  {
   "cell_type": "code",
   "execution_count": 115,
   "id": "77274787",
   "metadata": {},
   "outputs": [
    {
     "ename": "TypeError",
     "evalue": "unsupported operand type(s) for +: 'int' and 'NoneType'",
     "output_type": "error",
     "traceback": [
      "\u001b[1;31m---------------------------------------------------------------------------\u001b[0m",
      "\u001b[1;31mTypeError\u001b[0m                                 Traceback (most recent call last)",
      "Cell \u001b[1;32mIn[115], line 2\u001b[0m\n\u001b[0;32m      1\u001b[0m queue \u001b[38;5;241m=\u001b[39m Queue()\n\u001b[1;32m----> 2\u001b[0m \u001b[38;5;28mprint\u001b[39m(fun(\u001b[38;5;241m123\u001b[39m))\n",
      "Cell \u001b[1;32mIn[112], line 7\u001b[0m, in \u001b[0;36mfun\u001b[1;34m(num)\u001b[0m\n\u001b[0;32m      5\u001b[0m \u001b[38;5;28;01melse\u001b[39;00m:\n\u001b[0;32m      6\u001b[0m     queue\u001b[38;5;241m.\u001b[39menqueue(num\u001b[38;5;241m%\u001b[39m\u001b[38;5;241m10\u001b[39m)\n\u001b[1;32m----> 7\u001b[0m     res \u001b[38;5;241m=\u001b[39m fun(num\u001b[38;5;241m/\u001b[39m\u001b[38;5;241m/\u001b[39m\u001b[38;5;241m10\u001b[39m)\n\u001b[0;32m      8\u001b[0m     res\u001b[38;5;241m=\u001b[39m res\u001b[38;5;241m*\u001b[39m\u001b[38;5;241m10\u001b[39m \u001b[38;5;241m+\u001b[39mqueue\u001b[38;5;241m.\u001b[39mdequeue()\n\u001b[0;32m      9\u001b[0m     \u001b[38;5;28;01mreturn\u001b[39;00m res\n",
      "Cell \u001b[1;32mIn[112], line 7\u001b[0m, in \u001b[0;36mfun\u001b[1;34m(num)\u001b[0m\n\u001b[0;32m      5\u001b[0m \u001b[38;5;28;01melse\u001b[39;00m:\n\u001b[0;32m      6\u001b[0m     queue\u001b[38;5;241m.\u001b[39menqueue(num\u001b[38;5;241m%\u001b[39m\u001b[38;5;241m10\u001b[39m)\n\u001b[1;32m----> 7\u001b[0m     res \u001b[38;5;241m=\u001b[39m fun(num\u001b[38;5;241m/\u001b[39m\u001b[38;5;241m/\u001b[39m\u001b[38;5;241m10\u001b[39m)\n\u001b[0;32m      8\u001b[0m     res\u001b[38;5;241m=\u001b[39m res\u001b[38;5;241m*\u001b[39m\u001b[38;5;241m10\u001b[39m \u001b[38;5;241m+\u001b[39mqueue\u001b[38;5;241m.\u001b[39mdequeue()\n\u001b[0;32m      9\u001b[0m     \u001b[38;5;28;01mreturn\u001b[39;00m res\n",
      "Cell \u001b[1;32mIn[112], line 8\u001b[0m, in \u001b[0;36mfun\u001b[1;34m(num)\u001b[0m\n\u001b[0;32m      6\u001b[0m queue\u001b[38;5;241m.\u001b[39menqueue(num\u001b[38;5;241m%\u001b[39m\u001b[38;5;241m10\u001b[39m)\n\u001b[0;32m      7\u001b[0m res \u001b[38;5;241m=\u001b[39m fun(num\u001b[38;5;241m/\u001b[39m\u001b[38;5;241m/\u001b[39m\u001b[38;5;241m10\u001b[39m)\n\u001b[1;32m----> 8\u001b[0m res\u001b[38;5;241m=\u001b[39m res\u001b[38;5;241m*\u001b[39m\u001b[38;5;241m10\u001b[39m \u001b[38;5;241m+\u001b[39mqueue\u001b[38;5;241m.\u001b[39mdequeue()\n\u001b[0;32m      9\u001b[0m \u001b[38;5;28;01mreturn\u001b[39;00m res\n",
      "\u001b[1;31mTypeError\u001b[0m: unsupported operand type(s) for +: 'int' and 'NoneType'"
     ]
    }
   ],
   "source": [
    "queue = Queue()\n",
    "print(fun(123))"
   ]
  },
  {
   "cell_type": "code",
   "execution_count": null,
   "id": "20a710ad",
   "metadata": {},
   "outputs": [],
   "source": []
  }
 ],
 "metadata": {
  "kernelspec": {
   "display_name": "Python 3 (ipykernel)",
   "language": "python",
   "name": "python3"
  },
  "language_info": {
   "codemirror_mode": {
    "name": "ipython",
    "version": 3
   },
   "file_extension": ".py",
   "mimetype": "text/x-python",
   "name": "python",
   "nbconvert_exporter": "python",
   "pygments_lexer": "ipython3",
   "version": "3.11.3"
  }
 },
 "nbformat": 4,
 "nbformat_minor": 5
}
