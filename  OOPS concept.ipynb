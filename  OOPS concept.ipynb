{
 "cells": [
  {
   "cell_type": "code",
   "execution_count": null,
   "id": "fbd16c5f",
   "metadata": {},
   "outputs": [],
   "source": [
    "class Atm:\n",
    "    def __init__(self):\n",
    "        self.pin =\"\"\n",
    "        self.balance = 0\n",
    "        print(\"hello\")\n",
    "\n",
    "        self.menu()\n",
    "    def menu(self):\n",
    "        user_input = input(\"\"\"\n",
    "        Hello,how would you like to proceed?\n",
    "        1. Enter 1 to create pin\n",
    "        2. Enter 2 to deposit\n",
    "        3. Enter 3 to withdraw\n",
    "        4. Enter 4 to check balance \n",
    "        5. Enter 5 to exit\n",
    "        \"\"\")\n",
    "        if user_input ==\"1\":\n",
    "            create_pin()\n",
    "        elif user_input ==\"2\":\n",
    "            deposit()\n",
    "        elif user_input ==\"3\":\n",
    "            withdraw()\n",
    "        elif user_input ==\"4\":\n",
    "            check_balance()\n",
    "        else:\n",
    "            print(\"bye\")\n",
    "        \n",
    "    def create_pin(self):\n",
    "        self.pin = input(\"enter your pin\")\n",
    "        print(\"pin set ssuccessfully\")\n",
    "    \n",
    "    def deposit(self):\n",
    "        temp = input(\"enter your pin\")\n",
    "        if temp ==self.pin:\n",
    "            amount = int(input(\"enter the amount\"))\n",
    "            self.balance = self.balance+ amount\n",
    "            print(\"deposit successfully\")\n",
    "        else:\n",
    "            print(\"invalid pin\")\n",
    "     \n",
    "    def withdraw(self):\n",
    "        temp = input(\"enter your pin\")\n",
    "        if temp== self.pin:\n",
    "            amount = int(input(\"enter your amount\"))\n",
    "            if amount  < self.balance:\n",
    "                self.balance = self.balance - amount\n",
    "                print(\"operation successfully\")\n",
    "            else:\n",
    "                print(\"insuffcient funds\")\n",
    "        else:\n",
    "            print(\"invalid pin\")\n",
    "    def check_balance(self):\n",
    "        temp = input(\"enter your pin\")\n",
    "        if temp== self.pin:\n",
    "            print(self.balance)\n",
    "        else:\n",
    "            print(\"invalid pin\")\n",
    "        "
   ]
  },
  {
   "cell_type": "code",
   "execution_count": null,
   "id": "4cc505ce",
   "metadata": {},
   "outputs": [],
   "source": [
    "SBI = Atm()"
   ]
  },
  {
   "cell_type": "code",
   "execution_count": null,
   "id": "339ac7f0",
   "metadata": {},
   "outputs": [],
   "source": []
  }
 ],
 "metadata": {
  "kernelspec": {
   "display_name": "Python 3 (ipykernel)",
   "language": "python",
   "name": "python3"
  },
  "language_info": {
   "codemirror_mode": {
    "name": "ipython",
    "version": 3
   },
   "file_extension": ".py",
   "mimetype": "text/x-python",
   "name": "python",
   "nbconvert_exporter": "python",
   "pygments_lexer": "ipython3",
   "version": "3.11.3"
  }
 },
 "nbformat": 4,
 "nbformat_minor": 5
}
