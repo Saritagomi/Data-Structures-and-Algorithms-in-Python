{
 "cells": [
  {
   "cell_type": "code",
   "execution_count": 1,
   "id": "3bd23f1b",
   "metadata": {},
   "outputs": [],
   "source": [
    "class Node:\n",
    "    def __init__(self,value):\n",
    "        self.data = value\n",
    "        self.next = None"
   ]
  },
  {
   "cell_type": "code",
   "execution_count": 2,
   "id": "ec6c593f",
   "metadata": {},
   "outputs": [],
   "source": [
    "class Stack:\n",
    "    def __init__(self):\n",
    "        self.top =None\n",
    "        \n",
    "        \n",
    "    def isempty(self):\n",
    "        return self.top == None\n",
    "    \n",
    "    def size(self):\n",
    "        count = 0\n",
    "        curr = self.top\n",
    "        \n",
    "        while curr:\n",
    "            count += 1\n",
    "            curr= curr.next\n",
    "        return count\n",
    "    \n",
    "        \n",
    "    \n",
    "    def push(self,value):\n",
    "        new_node = Node(value)\n",
    "        new_node.next = self.top\n",
    "        self.top = new_node\n",
    "        \n",
    "    def traverse(self):\n",
    "        curr = self.top\n",
    "        while curr!= None:\n",
    "            print(curr.data)\n",
    "            curr = curr.next \n",
    "            \n",
    "    def peek(self):\n",
    "        if (self.isempty()):\n",
    "            return \"Stack Empty\"\n",
    "        else:\n",
    "            return self.top.data\n",
    "    \n",
    "    def pop(self):\n",
    "        if (self.isempty()):\n",
    "            return \"Stack is Empty\"\n",
    "        else:\n",
    "            data = self.top.data\n",
    "            self.top = self.top.next\n",
    "            return data\n",
    "            \n",
    " \n",
    "   \n",
    "        "
   ]
  },
  {
   "cell_type": "code",
   "execution_count": 3,
   "id": "16dab17b",
   "metadata": {},
   "outputs": [],
   "source": [
    "s = Stack()"
   ]
  },
  {
   "cell_type": "code",
   "execution_count": 6,
   "id": "1bcb75e5",
   "metadata": {},
   "outputs": [],
   "source": [
    "s.push(7)"
   ]
  },
  {
   "cell_type": "code",
   "execution_count": 7,
   "id": "2210de3b",
   "metadata": {},
   "outputs": [
    {
     "name": "stdout",
     "output_type": "stream",
     "text": [
      "7\n",
      "7\n"
     ]
    }
   ],
   "source": [
    "s.traverse()"
   ]
  },
  {
   "cell_type": "code",
   "execution_count": 8,
   "id": "4128280f",
   "metadata": {},
   "outputs": [
    {
     "data": {
      "text/plain": [
       "2"
      ]
     },
     "execution_count": 8,
     "metadata": {},
     "output_type": "execute_result"
    }
   ],
   "source": [
    "s.size()"
   ]
  },
  {
   "cell_type": "code",
   "execution_count": null,
   "id": "bc6e7431",
   "metadata": {},
   "outputs": [],
   "source": []
  },
  {
   "cell_type": "code",
   "execution_count": null,
   "id": "3b5a169b",
   "metadata": {},
   "outputs": [],
   "source": []
  },
  {
   "cell_type": "code",
   "execution_count": 9,
   "id": "f1925bc4",
   "metadata": {},
   "outputs": [],
   "source": [
    "L =[\n",
    "    [0,0,1,1],\n",
    "    [0,0,1,0],\n",
    "    [0,0,0,0],\n",
    "    [0,0,1,0]\n",
    "]"
   ]
  },
  {
   "cell_type": "code",
   "execution_count": 10,
   "id": "e40ae067",
   "metadata": {},
   "outputs": [],
   "source": [
    "def find_the_celeb(L):\n",
    "    s = Stack()\n",
    "    for i in range (len(L)):\n",
    "        s.push(i)\n",
    "    while s.size() >= 2:\n",
    "        i = s.pop()\n",
    "        j= s.pop()\n",
    "        \n",
    "        if L[i][j] == 0:\n",
    "            # j is not celebrity\n",
    "            s.push(i)\n",
    "        else:\n",
    "            # i is not celebrity\n",
    "            s.push(j)\n",
    "    celeb = s.pop()\n",
    "    for i in range(len(L)):\n",
    "        if i != celeb:\n",
    "            if L[i][celeb] ==  0 or L[celeb][i] == 1:\n",
    "                print(\"NO ONE IS THE CELEBRITY\")\n",
    "                return\n",
    "    print(\"The celebrity of the SARITA GOMI'S HOUSE is \", celeb)"
   ]
  },
  {
   "cell_type": "code",
   "execution_count": 11,
   "id": "4cc66d38",
   "metadata": {},
   "outputs": [
    {
     "name": "stdout",
     "output_type": "stream",
     "text": [
      "The celebrity of the SARITA GOMI'S HOUSE is  2\n"
     ]
    }
   ],
   "source": [
    "find_the_celeb(L)"
   ]
  },
  {
   "cell_type": "code",
   "execution_count": 21,
   "id": "4a917cf2",
   "metadata": {},
   "outputs": [],
   "source": [
    "def reversese(text):\n",
    "        s = Stack()\n",
    "        for i in text:\n",
    "            s.push(i)\n",
    "        data = \"\"\n",
    "        while (not s.isempty()):\n",
    "            data = data + s.pop() \n",
    "        print (data)\n",
    "    "
   ]
  },
  {
   "cell_type": "code",
   "execution_count": 22,
   "id": "23eecb91",
   "metadata": {},
   "outputs": [
    {
     "name": "stdout",
     "output_type": "stream",
     "text": [
      "958454\n"
     ]
    }
   ],
   "source": [
    "reversese(\"454859\")"
   ]
  },
  {
   "cell_type": "code",
   "execution_count": 17,
   "id": "04bb22e3",
   "metadata": {},
   "outputs": [],
   "source": [
    "def reverse_string(text):\n",
    "        s = Stack()\n",
    "        for i in text:\n",
    "            s.push(i)\n",
    "        res = \"\"\n",
    "        while (not s.isempty()):\n",
    "            res = res+ s.pop()\n",
    "        print(res)"
   ]
  },
  {
   "cell_type": "code",
   "execution_count": 18,
   "id": "f793d013",
   "metadata": {},
   "outputs": [
    {
     "name": "stdout",
     "output_type": "stream",
     "text": [
      "987654321\n"
     ]
    }
   ],
   "source": [
    "reverse_string(\"123456789\")"
   ]
  },
  {
   "cell_type": "code",
   "execution_count": null,
   "id": "be5206b6",
   "metadata": {},
   "outputs": [],
   "source": []
  }
 ],
 "metadata": {
  "kernelspec": {
   "display_name": "Python 3 (ipykernel)",
   "language": "python",
   "name": "python3"
  },
  "language_info": {
   "codemirror_mode": {
    "name": "ipython",
    "version": 3
   },
   "file_extension": ".py",
   "mimetype": "text/x-python",
   "name": "python",
   "nbconvert_exporter": "python",
   "pygments_lexer": "ipython3",
   "version": "3.11.3"
  }
 },
 "nbformat": 4,
 "nbformat_minor": 5
}
