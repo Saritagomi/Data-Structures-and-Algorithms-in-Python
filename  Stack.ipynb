{
 "cells": [
  {
   "cell_type": "code",
   "execution_count": null,
   "id": "68242b1a",
   "metadata": {},
   "outputs": [],
   "source": [
    "class Node:\n",
    "    def __init__(self,value):\n",
    "        self.data = value\n",
    "        self.next = None"
   ]
  },
  {
   "cell_type": "code",
   "execution_count": null,
   "id": "82e1dd46",
   "metadata": {},
   "outputs": [],
   "source": [
    "class Stack:\n",
    "    def __init__(self):\n",
    "        self.top =None\n",
    "        self.n = 0\n",
    "        \n",
    "    def isempty(self):\n",
    "        return self.top == None\n",
    "    \n",
    "    \n",
    "        \n",
    "    \n",
    "    def push(self,value):\n",
    "        new_node = Node(value)\n",
    "        new_node.next = self.top\n",
    "        self.top = new_node\n",
    "        \n",
    "    def traverse(self):\n",
    "        curr = self.top\n",
    "        while curr!= None:\n",
    "            print(curr.data)\n",
    "            curr = curr.next \n",
    "            \n",
    "    def peek(self):\n",
    "        if (self.isempty()):\n",
    "            return \"Stack Empty\"\n",
    "        else:\n",
    "            return self.top.data\n",
    "    \n",
    "    def pop(self):\n",
    "        if (self.isempty()):\n",
    "            return \"Stack is Empty\"\n",
    "        else:\n",
    "            data = self.top.data\n",
    "            self.top = self.top.next\n",
    "            return data\n",
    "            \n",
    " \n",
    "   \n",
    "        "
   ]
  },
  {
   "cell_type": "code",
   "execution_count": null,
   "id": "2cb0715a",
   "metadata": {},
   "outputs": [],
   "source": [
    "s = Stack()"
   ]
  },
  {
   "cell_type": "code",
   "execution_count": null,
   "id": "44777969",
   "metadata": {},
   "outputs": [],
   "source": [
    "s.isempty()"
   ]
  },
  {
   "cell_type": "code",
   "execution_count": null,
   "id": "2b90f28b",
   "metadata": {},
   "outputs": [],
   "source": [
    "s.push(5)"
   ]
  },
  {
   "cell_type": "code",
   "execution_count": null,
   "id": "785e8ba6",
   "metadata": {},
   "outputs": [],
   "source": [
    "s.isempty()"
   ]
  },
  {
   "cell_type": "code",
   "execution_count": null,
   "id": "3e3a056f",
   "metadata": {},
   "outputs": [],
   "source": [
    "s.push(3)"
   ]
  },
  {
   "cell_type": "code",
   "execution_count": null,
   "id": "b4f5b1c5",
   "metadata": {},
   "outputs": [],
   "source": [
    "s.push(4)"
   ]
  },
  {
   "cell_type": "code",
   "execution_count": null,
   "id": "ec130d5a",
   "metadata": {},
   "outputs": [],
   "source": [
    "s.push(8)"
   ]
  },
  {
   "cell_type": "code",
   "execution_count": null,
   "id": "d0f3fd53",
   "metadata": {},
   "outputs": [],
   "source": [
    "s.traverse()"
   ]
  },
  {
   "cell_type": "code",
   "execution_count": null,
   "id": "616d86c4",
   "metadata": {},
   "outputs": [],
   "source": [
    "s.peek()"
   ]
  },
  {
   "cell_type": "code",
   "execution_count": null,
   "id": "f907d822",
   "metadata": {},
   "outputs": [],
   "source": [
    "s.size()"
   ]
  },
  {
   "cell_type": "code",
   "execution_count": null,
   "id": "3a82d405",
   "metadata": {},
   "outputs": [],
   "source": []
  },
  {
   "cell_type": "code",
   "execution_count": 44,
   "id": "88626e1e",
   "metadata": {},
   "outputs": [],
   "source": [
    "s.pop()"
   ]
  },
  {
   "cell_type": "code",
   "execution_count": 73,
   "id": "95527b6a",
   "metadata": {},
   "outputs": [],
   "source": [
    "     #reverse the string\n",
    "def reverse_string(text):\n",
    "        s = Stack()\n",
    "        for i in text:\n",
    "            s.push(i)\n",
    "        res = \"\"\n",
    "        while (not s.isempty()):\n",
    "            res = res+ s.pop()\n",
    "        print(res)"
   ]
  },
  {
   "cell_type": "code",
   "execution_count": 74,
   "id": "a4a05692",
   "metadata": {},
   "outputs": [
    {
     "name": "stdout",
     "output_type": "stream",
     "text": [
      "987654321\n"
     ]
    }
   ],
   "source": [
    "reverse_string(\"123456789\")"
   ]
  },
  {
   "cell_type": "code",
   "execution_count": 83,
   "id": "9e5ffec7",
   "metadata": {},
   "outputs": [],
   "source": [
    "# text editor\n",
    "def text_editor(text,pattern):\n",
    "    u = Stack()\n",
    "    r = Stack()\n",
    "    for i in text:\n",
    "        u.push(i)\n",
    "    for i in pattern:\n",
    "        if i == 'u':\n",
    "            data = u.pop()\n",
    "            r.push(data)\n",
    "        else:\n",
    "            data = r.pop()\n",
    "            u.push(data)\n",
    "    res =\"\"\n",
    "    while (not u.isempty()):\n",
    "        res =u.pop()+ res\n",
    "    print(res)\n",
    "    "
   ]
  },
  {
   "cell_type": "code",
   "execution_count": 91,
   "id": "46122c4b",
   "metadata": {},
   "outputs": [
    {
     "name": "stdout",
     "output_type": "stream",
     "text": [
      "fjjkds\n"
     ]
    }
   ],
   "source": [
    "text_editor(\"fjjkdsjfks\",\"uuuu\")"
   ]
  },
  {
   "cell_type": "code",
   "execution_count": 94,
   "id": "35f14365",
   "metadata": {},
   "outputs": [],
   "source": [
    "L =[\n",
    "    [0,0,1,1],\n",
    "    [0,0,1,0],\n",
    "    [0,0,0,0],\n",
    "    [0,0,0,1]\n",
    "]"
   ]
  },
  {
   "cell_type": "code",
   "execution_count": null,
   "id": "6246a340",
   "metadata": {},
   "outputs": [],
   "source": [
    "def find_the_celeb(L):\n",
    "    s = Stack()\n",
    "    for i in range (len(L)):\n",
    "        s.push(i)\n",
    "    while s.len() >= 2:\n",
    "        i = s.pop()\n",
    "        j= s.pop()\n",
    "        \n",
    "        if L[i][j] == 0:\n",
    "            # j is not celebrity\n",
    "            s.push(i)\n",
    "        else:\n",
    "            # i is not celebrity\n",
    "            s.push(j)\n",
    "    print(s.traverse())\n",
    "        "
   ]
  },
  {
   "cell_type": "code",
   "execution_count": null,
   "id": "cb2f475f",
   "metadata": {},
   "outputs": [],
   "source": [
    "find_the_celeb(L)"
   ]
  },
  {
   "cell_type": "code",
   "execution_count": null,
   "id": "adeb98c8",
   "metadata": {},
   "outputs": [],
   "source": []
  },
  {
   "cell_type": "code",
   "execution_count": null,
   "id": "150858a5",
   "metadata": {},
   "outputs": [],
   "source": []
  }
 ],
 "metadata": {
  "kernelspec": {
   "display_name": "Python 3 (ipykernel)",
   "language": "python",
   "name": "python3"
  },
  "language_info": {
   "codemirror_mode": {
    "name": "ipython",
    "version": 3
   },
   "file_extension": ".py",
   "mimetype": "text/x-python",
   "name": "python",
   "nbconvert_exporter": "python",
   "pygments_lexer": "ipython3",
   "version": "3.11.3"
  }
 },
 "nbformat": 4,
 "nbformat_minor": 5
}
