{
 "cells": [
  {
   "cell_type": "code",
   "execution_count": 2,
   "id": "b1fbb12f",
   "metadata": {},
   "outputs": [],
   "source": [
    "  class node:\n",
    "    def __init__(self,value):\n",
    "        self.data = value\n",
    "        self.next = None\n",
    "        \n",
    "        "
   ]
  },
  {
   "cell_type": "code",
   "execution_count": 9,
   "id": "a12ad764",
   "metadata": {},
   "outputs": [],
   "source": [
    "a = node(1)\n",
    "b = node(2)\n",
    "c = node(3)"
   ]
  },
  {
   "cell_type": "code",
   "execution_count": 6,
   "id": "15baa4f8",
   "metadata": {},
   "outputs": [
    {
     "name": "stdout",
     "output_type": "stream",
     "text": [
      "<__main__.node object at 0x000001A06B168450>\n"
     ]
    }
   ],
   "source": [
    "print(b)"
   ]
  },
  {
   "cell_type": "code",
   "execution_count": 7,
   "id": "efbe7a85",
   "metadata": {},
   "outputs": [
    {
     "name": "stdout",
     "output_type": "stream",
     "text": [
      "1\n"
     ]
    }
   ],
   "source": [
    " print(a.data)"
   ]
  },
  {
   "cell_type": "code",
   "execution_count": 8,
   "id": "069856ae",
   "metadata": {},
   "outputs": [
    {
     "name": "stdout",
     "output_type": "stream",
     "text": [
      "None\n"
     ]
    }
   ],
   "source": [
    "print(a.next)"
   ]
  },
  {
   "cell_type": "code",
   "execution_count": 11,
   "id": "08ac8cf2",
   "metadata": {},
   "outputs": [
    {
     "data": {
      "text/plain": [
       "1788503159824"
      ]
     },
     "execution_count": 11,
     "metadata": {},
     "output_type": "execute_result"
    }
   ],
   "source": [
    "id(a)"
   ]
  },
  {
   "cell_type": "code",
   "execution_count": 13,
   "id": "d0f80ebd",
   "metadata": {},
   "outputs": [],
   "source": [
    "a.next = b\n",
    "b.next =c"
   ]
  },
  {
   "cell_type": "code",
   "execution_count": 14,
   "id": "816b7d6c",
   "metadata": {},
   "outputs": [
    {
     "name": "stdout",
     "output_type": "stream",
     "text": [
      "<__main__.node object at 0x000001A06B168450>\n"
     ]
    }
   ],
   "source": [
    "print(a.next)"
   ]
  },
  {
   "cell_type": "code",
   "execution_count": 15,
   "id": "c42c2bbf",
   "metadata": {},
   "outputs": [
    {
     "data": {
      "text/plain": [
       "1788503032912"
      ]
     },
     "execution_count": 15,
     "metadata": {},
     "output_type": "execute_result"
    }
   ],
   "source": [
    "int(0x000001A06B168450)"
   ]
  },
  {
   "cell_type": "code",
   "execution_count": 17,
   "id": "01ebf9eb",
   "metadata": {},
   "outputs": [
    {
     "name": "stdout",
     "output_type": "stream",
     "text": [
      "None\n"
     ]
    }
   ],
   "source": [
    "print(c.next)\n"
   ]
  },
  {
   "cell_type": "code",
   "execution_count": 2,
   "id": "fcc415bd",
   "metadata": {},
   "outputs": [],
   "source": [
    "class Node:\n",
    "    def __init__(self,value):\n",
    "        self.data = value\n",
    "        self.next = None\n",
    "        "
   ]
  },
  {
   "cell_type": "code",
   "execution_count": null,
   "id": "b056cdc0",
   "metadata": {},
   "outputs": [],
   "source": [
    "# class LinkedList:\n",
    "    def __init__(self):\n",
    "        # empty linked list\n",
    "        self.head = None\n",
    "        # no. of nodes\n",
    "        self.n = 0\n",
    "        \n",
    "    def __len__(self):\n",
    "        return self.n\n",
    "    \n",
    "    #insert into the linked list\n",
    "    def insert_head(self,value):\n",
    "        #create new node\n",
    "        new_node = Node(value)\n",
    "        # create connection\n",
    "        new_node.next = self.head\n",
    "        # reassign head\n",
    "        self.head = new_node\n",
    "        # increment n\n",
    "        self.n  =self.n+1\n",
    "    \n",
    "    # print the ll\n",
    "    def __str__(self):\n",
    "        curr = self.head\n",
    "        result = ''\n",
    "        while curr != None:\n",
    "            result = result + str(curr.data) +'->'\n",
    "            curr = curr.next\n",
    "        return result[:-2]\n",
    "    \n",
    "    # insert from tail\n",
    "    def append(self,value):\n",
    "        new_node = Node(value)\n",
    "        #if list is empty\n",
    "        if self.head == None:\n",
    "            self.head = new_node\n",
    "            self.n = self.n+1\n",
    "            return\n",
    "        curr = self.head\n",
    "        while curr.next != None:\n",
    "            curr = curr.next\n",
    "        # we are at the last node\n",
    "        curr.next = new_node\n",
    "        self.n = self.n+1\n",
    "            \n",
    "   # insert into the middle of the ll\n",
    "    def insert_after(self,after,value):\n",
    "        new_node = Node(value)\n",
    "        curr = self.head\n",
    "        while curr != None:\n",
    "            if curr.data == after:\n",
    "             break\n",
    "            curr = curr.next\n",
    "        #case 1 item mil gya -> not NONE\n",
    "        if curr != None:\n",
    "            new_node.next = curr.next\n",
    "            curr.next  = new_node\n",
    "            self.n = self.n+1\n",
    "        #case 2 item nhi mila curr -> NONE\n",
    "        else:\n",
    "            return 'Item is not found'\n",
    "        \n",
    "    # remove the all item\n",
    "    def clear(self):\n",
    "        self.head = None\n",
    "        self.n = 0\n",
    "    \n",
    "    # delete of head\n",
    "    def delete_head(self):\n",
    "        # when ll is empty\n",
    "        if self.head == None:\n",
    "            return 'EMPTY linked list'\n",
    "        self.head = self.head.next\n",
    "        self.n = self.n-1\n",
    "     \n",
    "    def pop(self):\n",
    "        if self.head == None:\n",
    "            return 'Empty linked list'\n",
    "        \n",
    "        curr = self.head\n",
    "        # kya ll me 1 item h\n",
    "        if curr.next ==None:\n",
    "            return self.delete_head()\n",
    "        \n",
    "        while curr.next.next != None:\n",
    "            curr = curr.next\n",
    "        curr.next = None\n",
    "        self.n = self.n-1\n",
    "        \n",
    "    #removing the specfic value\n",
    "    def remove(self,value):\n",
    "        if self.head == None:\n",
    "            return 'Empty linked list'\n",
    "        #if we want to remove the head node\n",
    "        if self.head.data == value:\n",
    "            return self.delete_head()\n",
    "        curr = self.head\n",
    "        while curr.next != None:\n",
    "            if curr.next.data  == value:\n",
    "                break\n",
    "            curr = curr.next\n",
    "            # case1 item nhi mil gya\n",
    "        if curr.next == None:\n",
    "            return 'Not found'\n",
    "            # case2 item  mila\n",
    "        else:\n",
    "            curr.next = curr.next.next\n",
    "            self.n = self.n-1\n",
    "            \n",
    "     # searching\n",
    "    def search(self,item):\n",
    "        curr = self.head\n",
    "        pos = 0\n",
    "        while curr != None:\n",
    "            if curr.data == item:\n",
    "                return pos\n",
    "            curr = curr.next\n",
    "            pos = pos+1\n",
    "        return 'Not found'\n",
    "    \n",
    "    # searching by index\n",
    "    def __getitem__(self,index):\n",
    "        curr = self.head\n",
    "        pos = 0\n",
    "        while curr != None:\n",
    "            if pos == index:\n",
    "                return curr.data\n",
    "            curr = curr.next\n",
    "            pos = pos +1\n",
    "        return 'Index error'\n",
    "        \n",
    "   # replace the max item with the specific value\n",
    "    def replace_max(self,value):\n",
    "        if self.head ==None:\n",
    "            return 'Linked list is empty'\n",
    "        curr = self.head\n",
    "        maxi = curr\n",
    "        while curr != None:\n",
    "            if curr.data > maxi.data:\n",
    "                maxi = curr\n",
    "            curr = curr.next\n",
    "        maxi.data = value\n",
    "            \n",
    "    # sum of the odd nodes\n",
    "    def sum_odd_nodes(self):\n",
    "        curr = self.head\n",
    "        count = 0\n",
    "        sums = 0\n",
    "        while curr!= None:\n",
    "            if count%2 != 0:\n",
    "                sums = sums +curr.data\n",
    "            count += 1\n",
    "            curr = curr.next\n",
    "        print(sums)\n",
    "        \n",
    "    # reverse the ll\n",
    "    def reverse(self):\n",
    "        prev_node = None\n",
    "        curr = self.head\n",
    "        while curr != None:\n",
    "            next_node = curr.next\n",
    "            curr.next = prev_node\n",
    "            prev_node = curr\n",
    "            curr = next_node\n",
    "        self.head =prev_node\n",
    "    \n",
    "    # ATQ we special character * and / must be replace by space \n",
    "    # if the occourance of two special character come together then replace with the one space and the next letter must be in upper case\n",
    "    def change_sent(self):\n",
    "        curr = self.head\n",
    "        while curr != None:\n",
    "            if curr.data == '*' or curr.data == '/':\n",
    "                curr.data =' '\n",
    "                if curr.next.data == '*' or curr.next.data == '/':\n",
    "                    curr.next.next.data = curr.next.next.data.upper()\n",
    "                    curr.next = curr.next.next\n",
    "                curr = curr.next   \n",
    "        \n",
    "        \n",
    "        \n",
    "        \n",
    "        \n",
    "        \n",
    "        "
   ]
  },
  {
   "cell_type": "code",
   "execution_count": 4,
   "id": "407dd379",
   "metadata": {},
   "outputs": [],
   "source": [
    "L = LinkedList()"
   ]
  },
  {
   "cell_type": "code",
   "execution_count": 6,
   "id": "0f26acf5",
   "metadata": {},
   "outputs": [],
   "source": [
    "L.insert_head('d')\n",
    "L.insert_head('*')\n",
    "L.insert_head(\"/\")\n",
    "L.insert_head('s')\n",
    "L.insert_head('d')\n",
    "L.insert_head('p')\n",
    "L.insert_head(\"/\")\n",
    "L.insert_head('s')\n"
   ]
  },
  {
   "cell_type": "code",
   "execution_count": 7,
   "id": "6940e7fb",
   "metadata": {},
   "outputs": [],
   "source": [
    "L.insert_head(7)"
   ]
  },
  {
   "cell_type": "code",
   "execution_count": 8,
   "id": "b0671abc",
   "metadata": {},
   "outputs": [
    {
     "data": {
      "text/plain": [
       "17"
      ]
     },
     "execution_count": 8,
     "metadata": {},
     "output_type": "execute_result"
    }
   ],
   "source": [
    "len(L)"
   ]
  },
  {
   "cell_type": "code",
   "execution_count": null,
   "id": "e1d16ed6",
   "metadata": {},
   "outputs": [],
   "source": [
    "print(L)"
   ]
  },
  {
   "cell_type": "code",
   "execution_count": null,
   "id": "cd597ef2",
   "metadata": {},
   "outputs": [],
   "source": [
    "L.change_sent()"
   ]
  },
  {
   "cell_type": "code",
   "execution_count": null,
   "id": "be4ed6af",
   "metadata": {},
   "outputs": [],
   "source": [
    "print(L)"
   ]
  },
  {
   "cell_type": "code",
   "execution_count": null,
   "id": "3c6c41e1",
   "metadata": {},
   "outputs": [],
   "source": [
    "L.pop()"
   ]
  },
  {
   "cell_type": "code",
   "execution_count": null,
   "id": "db0d9be6",
   "metadata": {},
   "outputs": [],
   "source": [
    "L.clear()"
   ]
  },
  {
   "cell_type": "code",
   "execution_count": 292,
   "id": "16e91bdd",
   "metadata": {},
   "outputs": [],
   "source": [
    "L.reverse()"
   ]
  },
  {
   "cell_type": "code",
   "execution_count": 255,
   "id": "903ea33e",
   "metadata": {},
   "outputs": [
    {
     "name": "stdout",
     "output_type": "stream",
     "text": [
      "6\n"
     ]
    }
   ],
   "source": [
    "L.sum_odd_nodes()"
   ]
  },
  {
   "cell_type": "code",
   "execution_count": 248,
   "id": "3487f762",
   "metadata": {},
   "outputs": [
    {
     "data": {
      "text/plain": [
       "'Linked list is empty'"
      ]
     },
     "execution_count": 248,
     "metadata": {},
     "output_type": "execute_result"
    }
   ],
   "source": [
    "L.replace_max(78)"
   ]
  },
  {
   "cell_type": "code",
   "execution_count": 227,
   "id": "1d086c90",
   "metadata": {},
   "outputs": [
    {
     "data": {
      "text/plain": [
       "'Index error'"
      ]
     },
     "execution_count": 227,
     "metadata": {},
     "output_type": "execute_result"
    }
   ],
   "source": [
    "L[7]"
   ]
  },
  {
   "cell_type": "code",
   "execution_count": 209,
   "id": "3f56d1d3",
   "metadata": {},
   "outputs": [
    {
     "data": {
      "text/plain": [
       "'Not found'"
      ]
     },
     "execution_count": 209,
     "metadata": {},
     "output_type": "execute_result"
    }
   ],
   "source": [
    "L.search(3)"
   ]
  },
  {
   "cell_type": "code",
   "execution_count": 202,
   "id": "a6685c4b",
   "metadata": {},
   "outputs": [],
   "source": [
    "L.remove(4)"
   ]
  },
  {
   "cell_type": "code",
   "execution_count": 137,
   "id": "4b0c8789",
   "metadata": {},
   "outputs": [],
   "source": [
    "L.append(5)"
   ]
  },
  {
   "cell_type": "code",
   "execution_count": 138,
   "id": "cba8b3f4",
   "metadata": {},
   "outputs": [],
   "source": [
    "L.delete_head()"
   ]
  },
  {
   "cell_type": "code",
   "execution_count": 139,
   "id": "0e3357c3",
   "metadata": {},
   "outputs": [
    {
     "name": "stdout",
     "output_type": "stream",
     "text": [
      "4->3->2->5\n"
     ]
    }
   ],
   "source": [
    "print(L)"
   ]
  },
  {
   "cell_type": "code",
   "execution_count": 77,
   "id": "76995c3a",
   "metadata": {},
   "outputs": [
    {
     "data": {
      "text/plain": [
       "'Item is not found'"
      ]
     },
     "execution_count": 77,
     "metadata": {},
     "output_type": "execute_result"
    }
   ],
   "source": [
    "L.insert_after(3,88)"
   ]
  },
  {
   "cell_type": "code",
   "execution_count": 50,
   "id": "427b9528",
   "metadata": {},
   "outputs": [],
   "source": [
    "L.clear()"
   ]
  },
  {
   "cell_type": "code",
   "execution_count": null,
   "id": "6eeb81e1",
   "metadata": {},
   "outputs": [],
   "source": []
  }
 ],
 "metadata": {
  "kernelspec": {
   "display_name": "Python 3 (ipykernel)",
   "language": "python",
   "name": "python3"
  },
  "language_info": {
   "codemirror_mode": {
    "name": "ipython",
    "version": 3
   },
   "file_extension": ".py",
   "mimetype": "text/x-python",
   "name": "python",
   "nbconvert_exporter": "python",
   "pygments_lexer": "ipython3",
   "version": "3.11.3"
  }
 },
 "nbformat": 4,
 "nbformat_minor": 5
}
