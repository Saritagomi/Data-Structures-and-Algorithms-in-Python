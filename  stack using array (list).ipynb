{
 "cells": [
  {
   "cell_type": "code",
   "execution_count": 1,
   "id": "e529ee2f",
   "metadata": {},
   "outputs": [],
   "source": [
    "L =[1,2,3,4]\n"
   ]
  },
  {
   "cell_type": "code",
   "execution_count": 9,
   "id": "59de7457",
   "metadata": {},
   "outputs": [
    {
     "data": {
      "text/plain": [
       "[1, 2, 3, 4, 45]"
      ]
     },
     "execution_count": 9,
     "metadata": {},
     "output_type": "execute_result"
    }
   ],
   "source": [
    "L"
   ]
  },
  {
   "cell_type": "code",
   "execution_count": 5,
   "id": "c09b9b3e",
   "metadata": {},
   "outputs": [],
   "source": [
    "L.append(45)"
   ]
  },
  {
   "cell_type": "code",
   "execution_count": 8,
   "id": "d99dc08f",
   "metadata": {},
   "outputs": [
    {
     "data": {
      "text/plain": [
       "45"
      ]
     },
     "execution_count": 8,
     "metadata": {},
     "output_type": "execute_result"
    }
   ],
   "source": [
    "L.pop()"
   ]
  },
  {
   "cell_type": "code",
   "execution_count": 10,
   "id": "4c17965f",
   "metadata": {},
   "outputs": [
    {
     "data": {
      "text/plain": [
       "45"
      ]
     },
     "execution_count": 10,
     "metadata": {},
     "output_type": "execute_result"
    }
   ],
   "source": [
    "L[-1]"
   ]
  },
  {
   "cell_type": "code",
   "execution_count": 38,
   "id": "55484342",
   "metadata": {},
   "outputs": [],
   "source": [
    "class Stack:\n",
    "    def __init__(self,size):\n",
    "        self.size = size\n",
    "        self.__stack = [None]* self.size\n",
    "        self.top = -1\n",
    "    \n",
    "    def push(self,value): \n",
    "        if self.top == self.size - 1:\n",
    "            return \"Overflow\"\n",
    "        else:\n",
    "            self.top += 1\n",
    "            self.stack[self.top] = value\n",
    "            \n",
    "    def pop(self):\n",
    "        if self.top == -1:\n",
    "            return \"Stack Empty\"\n",
    "        else:\n",
    "            data = self.stack[self.top]\n",
    "            self.top -= 1\n",
    "            print(data)\n",
    "            \n",
    "    def traverse(self):\n",
    "        for i in range(self.top+1):\n",
    "            print(self.stack[i],end =' ')\n",
    "        "
   ]
  },
  {
   "cell_type": "code",
   "execution_count": 39,
   "id": "6e0d7e30",
   "metadata": {},
   "outputs": [],
   "source": [
    "s = Stack(3)"
   ]
  },
  {
   "cell_type": "code",
   "execution_count": 44,
   "id": "5d626689",
   "metadata": {},
   "outputs": [
    {
     "data": {
      "text/plain": [
       "[215, 215, 215]"
      ]
     },
     "execution_count": 44,
     "metadata": {},
     "output_type": "execute_result"
    }
   ],
   "source": [
    "s.stack"
   ]
  },
  {
   "cell_type": "code",
   "execution_count": 43,
   "id": "b0e1438a",
   "metadata": {},
   "outputs": [],
   "source": [
    "s.push(215)"
   ]
  },
  {
   "cell_type": "code",
   "execution_count": 49,
   "id": "1353bcaf",
   "metadata": {},
   "outputs": [
    {
     "name": "stdout",
     "output_type": "stream",
     "text": [
      "215\n"
     ]
    }
   ],
   "source": [
    "s.pop()"
   ]
  },
  {
   "cell_type": "code",
   "execution_count": 53,
   "id": "f84e2db5",
   "metadata": {},
   "outputs": [
    {
     "name": "stdout",
     "output_type": "stream",
     "text": [
      "4 "
     ]
    }
   ],
   "source": [
    "s.traverse()"
   ]
  },
  {
   "cell_type": "code",
   "execution_count": 52,
   "id": "483a900b",
   "metadata": {},
   "outputs": [],
   "source": [
    "s.push(4)"
   ]
  },
  {
   "cell_type": "code",
   "execution_count": null,
   "id": "211175d5",
   "metadata": {},
   "outputs": [],
   "source": []
  }
 ],
 "metadata": {
  "kernelspec": {
   "display_name": "Python 3 (ipykernel)",
   "language": "python",
   "name": "python3"
  },
  "language_info": {
   "codemirror_mode": {
    "name": "ipython",
    "version": 3
   },
   "file_extension": ".py",
   "mimetype": "text/x-python",
   "name": "python",
   "nbconvert_exporter": "python",
   "pygments_lexer": "ipython3",
   "version": "3.11.3"
  }
 },
 "nbformat": 4,
 "nbformat_minor": 5
}
