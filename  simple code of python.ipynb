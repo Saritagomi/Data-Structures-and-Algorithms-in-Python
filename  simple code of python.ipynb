{
 "cells": [
  {
   "cell_type": "code",
   "execution_count": 69,
   "id": "886591fb",
   "metadata": {},
   "outputs": [],
   "source": [
    "def sort(arr):\n",
    "    n = len(arr)\n",
    "    for j in range(n):\n",
    "        for i in range(0,n-j-1):\n",
    "            if(arr[i] > arr[i+1]):\n",
    "                temp = arr[i]\n",
    "                arr[i] =arr[i+1]\n",
    "                arr[i+1] = temp\n",
    "                \n",
    "\n",
    "def find_minimum(arr):\n",
    "    if not arr:\n",
    "        return None  # Return None for an empty list\n",
    "\n",
    "    min_value = arr[0]\n",
    "    \n",
    "    for element in arr:\n",
    "        if element < min_value:\n",
    "            min_value = element\n",
    "\n",
    "    return min_value\n"
   ]
  },
  {
   "cell_type": "code",
   "execution_count": 70,
   "id": "7f6275d9",
   "metadata": {},
   "outputs": [],
   "source": [
    "arr =[3,5,6,2,6,4,7,55]\n",
    "sort(arr)"
   ]
  },
  {
   "cell_type": "code",
   "execution_count": 71,
   "id": "f307b42b",
   "metadata": {},
   "outputs": [
    {
     "name": "stdout",
     "output_type": "stream",
     "text": [
      "[2, 3, 4, 5, 6, 6, 7, 55]\n"
     ]
    }
   ],
   "source": [
    "print(arr)"
   ]
  },
  {
   "cell_type": "code",
   "execution_count": 73,
   "id": "ad71084d",
   "metadata": {},
   "outputs": [
    {
     "data": {
      "text/plain": [
       "2"
      ]
     },
     "execution_count": 73,
     "metadata": {},
     "output_type": "execute_result"
    }
   ],
   "source": [
    "# find the minimum value\n",
    "find_minimum(arr)\n"
   ]
  },
  {
   "cell_type": "code",
   "execution_count": 75,
   "id": "b62407f3",
   "metadata": {},
   "outputs": [
    {
     "name": "stdout",
     "output_type": "stream",
     "text": [
      "2\n"
     ]
    }
   ],
   "source": [
    "minimum_value = arr[0]\n",
    "print(minimum_value)"
   ]
  },
  {
   "cell_type": "code",
   "execution_count": 76,
   "id": "4803c612",
   "metadata": {},
   "outputs": [
    {
     "name": "stdout",
     "output_type": "stream",
     "text": [
      "55\n"
     ]
    }
   ],
   "source": [
    "maximum_value = arr[-1]\n",
    "print(maximum_value)"
   ]
  },
  {
   "cell_type": "code",
   "execution_count": null,
   "id": "eacff94d",
   "metadata": {},
   "outputs": [],
   "source": []
  }
 ],
 "metadata": {
  "kernelspec": {
   "display_name": "Python 3 (ipykernel)",
   "language": "python",
   "name": "python3"
  },
  "language_info": {
   "codemirror_mode": {
    "name": "ipython",
    "version": 3
   },
   "file_extension": ".py",
   "mimetype": "text/x-python",
   "name": "python",
   "nbconvert_exporter": "python",
   "pygments_lexer": "ipython3",
   "version": "3.11.3"
  }
 },
 "nbformat": 4,
 "nbformat_minor": 5
}
